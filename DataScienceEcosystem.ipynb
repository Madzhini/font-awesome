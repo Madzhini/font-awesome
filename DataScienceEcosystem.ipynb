{
 "cells": [
  {
   "cell_type": "markdown",
   "id": "3ab61960-2713-4729-8aa6-d448b3c488d5",
   "metadata": {},
   "source": [
    "# Data Science Tools and Ecosystem"
   ]
  },
  {
   "cell_type": "markdown",
   "id": "5606266d-7186-4d89-8c5d-5e3e19fb9d5b",
   "metadata": {},
   "source": [
    "In this notebook, Data Science Tools and Ecosystem are summarized. "
   ]
  },
  {
   "cell_type": "markdown",
   "id": "ca15ee22-58e5-4736-945f-3deded6e81e2",
   "metadata": {},
   "source": [
    "__Objectives:__\n",
    "* Languages for Data Science\n",
    "* Libraries used by Data Scientists\n",
    "* Tools for Data Science"
   ]
  },
  {
   "cell_type": "markdown",
   "id": "0cb088ee-dc4c-4ab6-9d8d-70f1e9a7a3a3",
   "metadata": {},
   "source": [
    "Some of the popular languages that Data Scientists use are:\n",
    "1. Python\n",
    "2. R\n",
    "4. SQL\n",
    "5. Java\n",
    "6. Julia\n",
    "7. JavaScript"
   ]
  },
  {
   "cell_type": "markdown",
   "id": "d2203847-d3eb-485a-9b27-862736f861a2",
   "metadata": {},
   "source": [
    "Some of the commonly used libraries used by Data Scientists include:\n",
    "1. Matplotlib\n",
    "2. Pandas\n",
    "3. Scikit-learn\n",
    "4. NumPy\n",
    "5. SciPy\n",
    "6. TensorFlow\n",
    "7. Keras\n",
    "8. PyTorch\n",
    "9. Seaborn"
   ]
  },
  {
   "cell_type": "markdown",
   "id": "ad3ff9e3-61fd-4121-b3c3-28307ddc4b3f",
   "metadata": {},
   "source": [
    "| Data Science Tools |\n",
    "| --- |\n",
    "| Jupyter Notebooks | \n",
    "| RStudio |\n",
    "| Orange3 |"
   ]
  },
  {
   "cell_type": "markdown",
   "id": "7a2187c8-793d-44f6-9d3f-dd83c34efe52",
   "metadata": {},
   "source": [
    "### Below are a few examples of evaluating arithmetic expressions in Python"
   ]
  },
  {
   "cell_type": "markdown",
   "id": "3e4d53cb-c749-4f1f-b0e8-4db9b38ec5cf",
   "metadata": {},
   "source": [
    "_This a simple arithmetic expression to mutiply then add integers_"
   ]
  },
  {
   "cell_type": "code",
   "execution_count": 4,
   "id": "50fe3190-c9e1-43b4-8e45-dbe3c43de8fb",
   "metadata": {},
   "outputs": [
    {
     "data": {
      "text/plain": [
       "17"
      ]
     },
     "execution_count": 4,
     "metadata": {},
     "output_type": "execute_result"
    }
   ],
   "source": [
    "(3*4)+5"
   ]
  },
  {
   "cell_type": "markdown",
   "id": "9005ed6d-d6b5-47e7-9a33-8d2223073f54",
   "metadata": {},
   "source": [
    "_This will convert 200 minutes to hours by diving by 60_"
   ]
  },
  {
   "cell_type": "code",
   "execution_count": 7,
   "id": "7b745e1f-ebbe-4860-8666-2c6ad339cfc1",
   "metadata": {},
   "outputs": [
    {
     "data": {
      "text/plain": [
       "3.3333333333333335"
      ]
     },
     "execution_count": 7,
     "metadata": {},
     "output_type": "execute_result"
    }
   ],
   "source": [
    "200/60"
   ]
  },
  {
   "cell_type": "markdown",
   "id": "145320ee-bfc8-4db7-9659-ac60f8ab20ca",
   "metadata": {},
   "source": [
    "## Author"
   ]
  },
  {
   "cell_type": "markdown",
   "id": "85d15845-7909-4801-a93a-b99a8ec336ea",
   "metadata": {},
   "source": [
    "Riccardo Magini"
   ]
  }
 ],
 "metadata": {
  "kernelspec": {
   "display_name": "Python 3 (ipykernel)",
   "language": "python",
   "name": "python3"
  },
  "language_info": {
   "codemirror_mode": {
    "name": "ipython",
    "version": 3
   },
   "file_extension": ".py",
   "mimetype": "text/x-python",
   "name": "python",
   "nbconvert_exporter": "python",
   "pygments_lexer": "ipython3",
   "version": "3.12.7"
  }
 },
 "nbformat": 4,
 "nbformat_minor": 5
}
